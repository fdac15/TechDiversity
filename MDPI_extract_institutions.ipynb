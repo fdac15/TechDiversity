{
 "cells": [
  {
   "cell_type": "markdown",
   "metadata": {
    "collapsed": false
   },
   "source": [
    "### MDPI Journals"
   ]
  },
  {
   "cell_type": "code",
   "execution_count": 35,
   "metadata": {
    "collapsed": false
   },
   "outputs": [
    {
     "name": "stdout",
     "output_type": "stream",
     "text": [
      "Started!\n",
      "Done! Found 357 articles\n"
     ]
    }
   ],
   "source": [
    "import requests, json, sys, time, re\n",
    "from bs4 import BeautifulSoup\n",
    "\n",
    "\n",
    "def get_institutions(soup):\n",
    "    art = str(soup.find(\"div\", {\"class\": \"art-affiliations\"}))\n",
    "    institutions = art.replace('<span style=\"display:block; height:6px;\"></span>', \"\")\n",
    "    institutions = institutions.replace(\"<div class=\\\"art-affiliations\\\">\", \"\")\n",
    "    institutions = institutions.replace(\"</div>\", \"\")\n",
    "    institutions = institutions.split(\"<sup>\")\n",
    "    _all = {}\n",
    "    for institute in institutions:\n",
    "        institute = institute.replace(\"</sup>\", \"\")\n",
    "        num = institute[0]\n",
    "        name = institute[1:]\n",
    "        name = name.replace(\"\\t\", \"\")\n",
    "        name = name.strip()\n",
    "        _all[num] = name\n",
    "    return _all\n",
    "\n",
    "def get_authors(soup):\n",
    "    authors = soup.find(\"div\", {\"class\":\"art-authors\"})\n",
    "    authors = authors.findAll(\"span\", {\"class\":\"inlineblock\"})\n",
    "    _all = {}\n",
    "    for author in authors:\n",
    "        num = author.find(\"sup\").get_text()\n",
    "        num = num.strip()\n",
    "        nums = num.split(\",\")\n",
    "        all_num = []\n",
    "        for number in nums:\n",
    "            if(number != ''):\n",
    "                all_num.append(number)\n",
    "        name = author.find(\"a\", {\"itemprop\": \"author\"}).get_text()\n",
    "        name = name.strip();\n",
    "        _all[name] = all_num\n",
    "    return _all\n",
    "\n",
    "f = open(\"MDPI_Journals.json\", \"r\")\n",
    "\n",
    "journals = json.load(f)\n",
    "complete = []\n",
    "i = 0;\n",
    "\n",
    "print (\"Started!\")\n",
    "\n",
    "for journal in journals:\n",
    "    url = journal['url']\n",
    "    r = requests.get(url)\n",
    "    soup = BeautifulSoup(r.text, 'html.parser')\n",
    "    journal['institutions'] = get_institutions(soup)\n",
    "    journal['authors'] = get_authors(soup)\n",
    "    complete.append(journal)\n",
    "    i += 1\n",
    "\n",
    "print (\"Done! Found \" + str(i) + \" articles\")"
   ]
  },
  {
   "cell_type": "code",
   "execution_count": 48,
   "metadata": {
    "collapsed": false
   },
   "outputs": [
    {
     "name": "stdout",
     "output_type": "stream",
     "text": [
      "Done!\n"
     ]
    }
   ],
   "source": [
    "fixed = []\n",
    "for journal in complete:\n",
    "    journal['institutions'].pop(\"\\n\", None)\n",
    "    fixed.append(journal)\n",
    "with open(\"MDPI_complete_list\", \"w\") as json_file:\n",
    "    json.dump(complete, json_file, indent=2)\n",
    "\n",
    "print (\"Done!\")"
   ]
  },
  {
   "cell_type": "code",
   "execution_count": null,
   "metadata": {
    "collapsed": true
   },
   "outputs": [],
   "source": []
  }
 ],
 "metadata": {
  "kernelspec": {
   "display_name": "Python 3",
   "language": "python",
   "name": "python3"
  },
  "language_info": {
   "codemirror_mode": {
    "name": "ipython",
    "version": 3
   },
   "file_extension": ".py",
   "mimetype": "text/x-python",
   "name": "python",
   "nbconvert_exporter": "python",
   "pygments_lexer": "ipython3",
   "version": "3.4.0"
  }
 },
 "nbformat": 4,
 "nbformat_minor": 0
}
