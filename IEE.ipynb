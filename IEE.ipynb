{
 "cells": [
  {
   "cell_type": "markdown",
   "metadata": {},
   "source": [
    "IEEE Scraping Attempt"
   ]
  },
  {
   "cell_type": "code",
   "execution_count": null,
   "metadata": {
    "collapsed": false
   },
   "outputs": [],
   "source": [
    "import requests, json, sys, time, re\n",
    "from bs4 import BeautifulSoup\n",
    "\n",
    "BASE_URL = \"http://ieeexplore.ieee.org\"\n",
    "START_URL = \"http://ieeexplore.ieee.org/xpl/conferences.jsp?pageNumber=\"\n",
    "conferences_url = []\n",
    "\n",
    "matches = ''\n",
    "i = 0\n",
    "\n",
    "    \n",
    "def getConference(URL):\n",
    "    r = requests.get(URL)\n",
    "    t = r.text\n",
    "    soup = BeautifulSoup(t, 'html.parser')\n",
    "    for h3 in soup.find_all('h3', class_='journals-content-title'):\n",
    "        for link in h3.find_all('a'):\n",
    "            link = str(link)\n",
    "            matches=re.findall(r'\\\"(.+?)\\\"',link)\n",
    "            conferences_url.append(str(matches[0]))\n",
    "\n",
    "def getPaper(URL):\n",
    "    r = requests.get(URL)\n",
    "    t = r.text\n",
    "    soup = BeautifulSoup(t, 'html.parser')\n",
    "    for link in soup.find_all('a', 'art-abs-url'):\n",
    "        link = str(link)\n",
    "        matches=re.findall(r'href=\\\"(.+?)\\\"',link)\n",
    "        print(matches)\n",
    "#for i in range(1,271):\n",
    "getConference(START_URL + \"1\")\n",
    "for conference in conferences_url:\n",
    "    getPaper(BASE_URL + str(conference))\n",
    "#    if i == 3:\n",
    "#        sys.exit()\n",
    "\n",
    "#print(t)\n"
   ]
  },
  {
   "cell_type": "code",
   "execution_count": null,
   "metadata": {
    "collapsed": true
   },
   "outputs": [],
   "source": []
  },
  {
   "cell_type": "code",
   "execution_count": null,
   "metadata": {
    "collapsed": true
   },
   "outputs": [],
   "source": []
  },
  {
   "cell_type": "code",
   "execution_count": null,
   "metadata": {
    "collapsed": true
   },
   "outputs": [],
   "source": []
  }
 ],
 "metadata": {
  "kernelspec": {
   "display_name": "Python 3",
   "language": "python",
   "name": "python3"
  },
  "language_info": {
   "codemirror_mode": {
    "name": "ipython",
    "version": 3
   },
   "file_extension": ".py",
   "mimetype": "text/x-python",
   "name": "python",
   "nbconvert_exporter": "python",
   "pygments_lexer": "ipython3",
   "version": "3.4.0"
  }
 },
 "nbformat": 4,
 "nbformat_minor": 0
}
