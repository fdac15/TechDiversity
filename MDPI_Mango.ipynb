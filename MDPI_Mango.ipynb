{
 "cells": [
  {
   "cell_type": "code",
   "execution_count": 64,
   "metadata": {
    "collapsed": false
   },
   "outputs": [],
   "source": [
    "import json, re, collections, pymongo\n",
    "\n",
    "f = open(\"MDPI_complete_list.json\")\n",
    "\n",
    "json_list = json.load(f)\n",
    "f.close()\n",
    "\n",
    "client = pymongo.MongoClient(host=\"da0.eecs.utk.edu\")\n",
    "db = client[\"TechDiversity\"]\n",
    "coll = db[\"mdpi\"]\n",
    "\n",
    "for post in json_list:\n",
    "    USA = {}\n",
    "    \n",
    "    title = post['title']\n",
    "    author = ''\n",
    "    university = ''\n",
    "    date = post['date']\n",
    "    isbn = post['doi']\n",
    "    done = False\n",
    "    \n",
    "    for k, inst in post['institutions'].items():\n",
    "        data = re.search('USA', inst)\n",
    "        if(data):\n",
    "            USA[k] = inst\n",
    "    \n",
    "    for k, v in post['authors'].items():\n",
    "        if(len(v) > 0 and v[0] in USA):\n",
    "            author = k\n",
    "            university = USA[v[0]]\n",
    "            done = True\n",
    "    posts = {\n",
    "        \"title\" : title,\n",
    "        \"author\" : author,\n",
    "        \"university\" : university,\n",
    "        \"date\" : date,\n",
    "        \"isbn\" : isbn\n",
    "    }\n",
    "    if(done):\n",
    "        coll.insert(posts)"
   ]
  },
  {
   "cell_type": "code",
   "execution_count": null,
   "metadata": {
    "collapsed": true
   },
   "outputs": [],
   "source": []
  },
  {
   "cell_type": "code",
   "execution_count": null,
   "metadata": {
    "collapsed": true
   },
   "outputs": [],
   "source": []
  }
 ],
 "metadata": {
  "kernelspec": {
   "display_name": "Python 3",
   "language": "python",
   "name": "python3"
  },
  "language_info": {
   "codemirror_mode": {
    "name": "ipython",
    "version": 3
   },
   "file_extension": ".py",
   "mimetype": "text/x-python",
   "name": "python",
   "nbconvert_exporter": "python",
   "pygments_lexer": "ipython3",
   "version": "3.4.0"
  }
 },
 "nbformat": 4,
 "nbformat_minor": 0
}
