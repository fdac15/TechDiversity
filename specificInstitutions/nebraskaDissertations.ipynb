{
 "cells": [
  {
   "cell_type": "code",
   "execution_count": 36,
   "metadata": {
    "collapsed": false
   },
   "outputs": [],
   "source": [
    "import requests, json, sys, time, re\n",
    "from bs4 import BeautifulSoup\n",
    "\n",
    "entries = []\n",
    "\n",
    "URL = 'http://digitalcommons.unl.edu/mathstudent/'\n",
    "r = requests.get(URL)\n",
    "t = r.text\n",
    "soup = BeautifulSoup(t, 'html.parser')\n",
    "for entry in soup.findAll('p', {\"class\":'article-listing'}):\n",
    "    dictionary = {\n",
    "        \"title\": entry.find('a').string,\n",
    "        \"author\": entry.contents[1][2:],\n",
    "        \"institution\": 'University of Nebraska',\n",
    "        \"year\": entry.find_previous('h4').contents[0].strip(),\n",
    "        \"subject\": 'mathematics',\n",
    "        \"url\": entry.find('a')['href']\n",
    "    }\n",
    "    entries.append(dictionary)\n",
    "\n",
    "with open(\"nebraskaDissertations.json\", \"w\") as f:\n",
    "    json.dump(entries, f, indent = 2)"
   ]
  },
  {
   "cell_type": "markdown",
   "metadata": {},
   "source": [
    "Found 67 entries starting in 2004 and math club for women started in 2008"
   ]
  }
 ],
 "metadata": {
  "kernelspec": {
   "display_name": "Python 3",
   "language": "python",
   "name": "python3"
  },
  "language_info": {
   "codemirror_mode": {
    "name": "ipython",
    "version": 3
   },
   "file_extension": ".py",
   "mimetype": "text/x-python",
   "name": "python",
   "nbconvert_exporter": "python",
   "pygments_lexer": "ipython3",
   "version": "3.4.0"
  }
 },
 "nbformat": 4,
 "nbformat_minor": 0
}
