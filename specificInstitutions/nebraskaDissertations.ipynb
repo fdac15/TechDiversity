{
 "cells": [
  {
   "cell_type": "code",
   "execution_count": 34,
   "metadata": {
    "collapsed": false
   },
   "outputs": [
    {
     "ename": "SyntaxError",
     "evalue": "invalid syntax (<ipython-input-34-02c0fe6b90ce>, line 15)",
     "output_type": "error",
     "traceback": [
      "\u001b[1;36m  File \u001b[1;32m\"<ipython-input-34-02c0fe6b90ce>\"\u001b[1;36m, line \u001b[1;32m15\u001b[0m\n\u001b[1;33m    \"year\": entry.find_previous('h4').contents[0].strip(),,\u001b[0m\n\u001b[1;37m                                                          ^\u001b[0m\n\u001b[1;31mSyntaxError\u001b[0m\u001b[1;31m:\u001b[0m invalid syntax\n"
     ]
    }
   ],
   "source": [
    "import requests, json, sys, time, re\n",
    "from bs4 import BeautifulSoup\n",
    "\n",
    "entries = []\n",
    "\n",
    "URL = 'http://digitalcommons.unl.edu/mathstudent/'\n",
    "r = requests.get(URL)\n",
    "t = r.text\n",
    "soup = BeautifulSoup(t, 'html.parser')\n",
    "for entry in soup.findAll('p', {\"class\":'article-listing'}):\n",
    "    dictionary = {\n",
    "        \"title\": entry.find('a').string,\n",
    "        \"author\": entry.contents[1][2:],\n",
    "        \"institution\": 'University of Nebraska',\n",
    "        \"year\": entry.find_previous('h4').contents[0].strip(),,\n",
    "        \"subject\": mathematics,\n",
    "        \"url\": entry.find('a')['href']\n",
    "    }\n",
    "    entries.append(dictionary)\n",
    "\n",
    "with open(\"nebraskaDissertations.json\", \"w\") as f:\n",
    "    json.dump(entries, f, indent = 2)"
   ]
  },
  {
   "cell_type": "markdown",
   "metadata": {},
   "source": [
    "Found 67 entries starting in 2004 and math club for women started in 2008"
   ]
  }
 ],
 "metadata": {
  "kernelspec": {
   "display_name": "Python 3",
   "language": "python",
   "name": "python3"
  },
  "language_info": {
   "codemirror_mode": {
    "name": "ipython",
    "version": 3
   },
   "file_extension": ".py",
   "mimetype": "text/x-python",
   "name": "python",
   "nbconvert_exporter": "python",
   "pygments_lexer": "ipython3",
   "version": "3.4.0"
  }
 },
 "nbformat": 4,
 "nbformat_minor": 0
}
