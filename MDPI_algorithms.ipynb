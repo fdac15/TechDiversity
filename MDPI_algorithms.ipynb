{
 "cells": [
  {
   "cell_type": "markdown",
   "metadata": {},
   "source": [
    "# MDPI Algorithms Journals\n",
    "\n",
    "### Purpose\n",
    "Get all of the needed information about journals from MDPI Algorithms. The result is formatted as a list of dictionaries where each dictionary contains information about a single journal. The final result is dumped into a json file called MDPI_Journals.json."
   ]
  },
  {
   "cell_type": "code",
   "execution_count": 1,
   "metadata": {
    "collapsed": false
   },
   "outputs": [
    {
     "name": "stdout",
     "output_type": "stream",
     "text": [
      "Getting Page 0\n",
      "Getting Page 1\n",
      "Getting Page 2\n",
      "Done!\n"
     ]
    }
   ],
   "source": [
    "import requests, json, sys, time, re\n",
    "from bs4 import BeautifulSoup\n",
    "\n",
    "URL = \"http://www.mdpi.com/search?journal=algorithms&page_count=50&sort=relevance&countries=UNITED_STATES\"\n",
    "page_identifier = \"&page_no=\"\n",
    "num_pages = 2;\n",
    "\n",
    "\n",
    "def get_page(page, full_list):\n",
    "    r = ''\n",
    "    if (page > 0):\n",
    "        r = requests.get(URL + page_identifier + str(page))\n",
    "    else:\n",
    "        r = requests.get(URL)\n",
    "    soup = BeautifulSoup(r.text, \"html.parser\")\n",
    "    \n",
    "    articles = soup.find_all(\"table\", {\"class\": \"articleItem\"})\n",
    "    for article in articles:\n",
    "        a = article.find(\"div\", {\"class\": \"title\"}).find(\"a\")\n",
    "        link = a['href']\n",
    "        title = a.get_text()\n",
    "        authors_list = []\n",
    "        authors = article.find(\"div\", {\"class\": \"authors\"}).find_all(\"span\")\n",
    "        for author in authors:\n",
    "            authors_list.append(author.find(\"a\").get_text())\n",
    "        doi = article.find(\"div\", {\"class\": \"idnt\"}).find(\"a\").get_text()\n",
    "        pubdates = article.find(\"div\", {\"class\": \"pubdates\"}).get_text()\n",
    "        pubdates = pubdates.split(\"/\")\n",
    "        pubdates = pubdates[-1].split(\":\")\n",
    "        date = pubdates[1]\n",
    "        \n",
    "        dictionary = {\n",
    "            \"title\": title,\n",
    "            \"authors\": authors_list,\n",
    "            \"doi\": doi,\n",
    "            \"date\": date,\n",
    "            \"url\": \"http://www.mdpi.com\" + link\n",
    "        }\n",
    "        \n",
    "        full_list.append(dictionary)\n",
    "    return full_list;\n",
    "        \n",
    "\n",
    "full_list = []\n",
    "for i in range (0, num_pages+1):\n",
    "    print(\"Getting Page \"+str(i))\n",
    "    full_list = get_page(i, full_list)\n",
    "print (\"Done!\")\n",
    "\n",
    "with open(\"MDPI_Journals.json\", \"w\") as f:\n",
    "    json.dump(full_list, f, indent = 2)"
   ]
  },
  {
   "cell_type": "code",
   "execution_count": null,
   "metadata": {
    "collapsed": true
   },
   "outputs": [],
   "source": []
  }
 ],
 "metadata": {
  "kernelspec": {
   "display_name": "Python 3",
   "language": "python",
   "name": "python3"
  },
  "language_info": {
   "codemirror_mode": {
    "name": "ipython",
    "version": 3
   },
   "file_extension": ".py",
   "mimetype": "text/x-python",
   "name": "python",
   "nbconvert_exporter": "python",
   "pygments_lexer": "ipython3",
   "version": "3.4.0"
  }
 },
 "nbformat": 4,
 "nbformat_minor": 0
}
